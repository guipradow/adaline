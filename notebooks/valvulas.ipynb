{
 "cells": [
  {
   "cell_type": "code",
   "execution_count": 1,
   "metadata": {},
   "outputs": [],
   "source": [
    "import sys\n",
    "sys.path.append('..')\n",
    "from src.Adaline import Adaline\n",
    "import numpy as np\n",
    "import pandas as pd\n",
    "from sklearn.preprocessing import MinMaxScaler\n",
    "from sklearn.model_selection import train_test_split\n",
    "from sklearn.metrics import accuracy_score\n",
    "import matplotlib.pyplot as plt\n",
    "import seaborn as sns"
   ]
  },
  {
   "cell_type": "markdown",
   "metadata": {},
   "source": [
    "# Descrição do problema"
   ]
  },
  {
   "cell_type": "markdown",
   "metadata": {},
   "source": [
    "Um sistema de gerenciamento automático de controle de duas válvulas, situado a 500 metros de um processo industrial, envia um sinal codificado constituído de quatro grandezas {x1, x2, x3 e x4} que são necessárias para o ajuste de cada uma das válvulas. Conforme mostra a figura abaixo, a mesma via de comunicação é utilizada para acionamento de ambas as válvulas, sendo que o comutador localizado próximo das válvulas deve decidir se o sinal é para a válvula A ou B.\n",
    "\n",
    "<img src='../figs/fig1.png'>\n",
    "\n",
    "Entretanto, durante a transmissão, os sinais sofrem interferências que alteram o conteúdo das informações transmitidas. Para resolver este problema, a equipe de engenheiros e cientistas pretende treinar uma rede ADALINE para classificar os sinais ruidosos, confirmando ao sistema comutador se os dados devem ser encaminhados para o comando de ajuste da válvula A ou B.  \n",
    "Assim, baseado nas medições dos sinais já com ruídos, formou-se o conjunto de treinamento em anexo, tomando por convenção o valor –1 para os sinais que devem ser encaminhados para o ajuste da válvula A e o valor +1 se os mesmos devem ser enviados para a válvula B. Assim, a estrutura do ADALINE é mostrada na figura seguinte.\n",
    "\n",
    "<img src='../figs/fig2.png' width='30%'>\n"
   ]
  },
  {
   "cell_type": "markdown",
   "metadata": {},
   "source": [
    "## Carregamento dos dados"
   ]
  },
  {
   "cell_type": "code",
   "execution_count": 2,
   "metadata": {},
   "outputs": [
    {
     "data": {
      "text/html": [
       "<div>\n",
       "<style scoped>\n",
       "    .dataframe tbody tr th:only-of-type {\n",
       "        vertical-align: middle;\n",
       "    }\n",
       "\n",
       "    .dataframe tbody tr th {\n",
       "        vertical-align: top;\n",
       "    }\n",
       "\n",
       "    .dataframe thead th {\n",
       "        text-align: right;\n",
       "    }\n",
       "</style>\n",
       "<table border=\"1\" class=\"dataframe\">\n",
       "  <thead>\n",
       "    <tr style=\"text-align: right;\">\n",
       "      <th></th>\n",
       "      <th>0</th>\n",
       "      <th>1</th>\n",
       "      <th>2</th>\n",
       "      <th>3</th>\n",
       "      <th>4</th>\n",
       "    </tr>\n",
       "  </thead>\n",
       "  <tbody>\n",
       "    <tr>\n",
       "      <th>0</th>\n",
       "      <td>0.4329</td>\n",
       "      <td>-1.3719</td>\n",
       "      <td>0.7022</td>\n",
       "      <td>-0.8535</td>\n",
       "      <td>1.0</td>\n",
       "    </tr>\n",
       "    <tr>\n",
       "      <th>1</th>\n",
       "      <td>0.3024</td>\n",
       "      <td>0.2286</td>\n",
       "      <td>0.8630</td>\n",
       "      <td>2.7909</td>\n",
       "      <td>-1.0</td>\n",
       "    </tr>\n",
       "    <tr>\n",
       "      <th>2</th>\n",
       "      <td>0.1349</td>\n",
       "      <td>-0.6445</td>\n",
       "      <td>1.0530</td>\n",
       "      <td>0.5687</td>\n",
       "      <td>-1.0</td>\n",
       "    </tr>\n",
       "    <tr>\n",
       "      <th>3</th>\n",
       "      <td>0.3374</td>\n",
       "      <td>-1.7163</td>\n",
       "      <td>0.3670</td>\n",
       "      <td>-0.6283</td>\n",
       "      <td>-1.0</td>\n",
       "    </tr>\n",
       "    <tr>\n",
       "      <th>4</th>\n",
       "      <td>1.1434</td>\n",
       "      <td>-0.0485</td>\n",
       "      <td>0.6637</td>\n",
       "      <td>1.2606</td>\n",
       "      <td>1.0</td>\n",
       "    </tr>\n",
       "  </tbody>\n",
       "</table>\n",
       "</div>"
      ],
      "text/plain": [
       "        0       1       2       3    4\n",
       "0  0.4329 -1.3719  0.7022 -0.8535  1.0\n",
       "1  0.3024  0.2286  0.8630  2.7909 -1.0\n",
       "2  0.1349 -0.6445  1.0530  0.5687 -1.0\n",
       "3  0.3374 -1.7163  0.3670 -0.6283 -1.0\n",
       "4  1.1434 -0.0485  0.6637  1.2606  1.0"
      ]
     },
     "execution_count": 2,
     "metadata": {},
     "output_type": "execute_result"
    }
   ],
   "source": [
    "# Carrega os dados em um pandas DataFrame\n",
    "df = pd.read_csv('../data/valvulas.csv', header=None)\n",
    "\n",
    "# Visualiza as 5 primeiras linhas do dataset\n",
    "df.head()"
   ]
  },
  {
   "cell_type": "code",
   "execution_count": 3,
   "metadata": {},
   "outputs": [
    {
     "data": {
      "text/plain": [
       "0    float64\n",
       "1    float64\n",
       "2    float64\n",
       "3    float64\n",
       "4    float64\n",
       "dtype: object"
      ]
     },
     "execution_count": 3,
     "metadata": {},
     "output_type": "execute_result"
    }
   ],
   "source": [
    "# Verifica os dtypes do dataset\n",
    "df.dtypes"
   ]
  },
  {
   "cell_type": "markdown",
   "metadata": {},
   "source": [
    "## Pré-processamento"
   ]
  },
  {
   "cell_type": "code",
   "execution_count": 4,
   "metadata": {},
   "outputs": [],
   "source": [
    "# Separa o dataset entre os sinais de entrada (X) e saída (y)\n",
    "X = df.loc[:, [0, 1, 2, 3]].values\n",
    "y = df.loc[:, 4].values\n",
    "\n",
    "# Faz o escalonamento dos sinais de entrada\n",
    "scaler = MinMaxScaler()\n",
    "X = scaler.fit_transform(X)\n",
    "\n",
    "# Separa o dataset em treino e teste, considerando 70% para treino\n",
    "X_train, X_test, y_train, y_test = train_test_split(X, y, test_size=.7)"
   ]
  },
  {
   "cell_type": "markdown",
   "metadata": {},
   "source": [
    "## Treinamento da rede\n",
    "\n",
    "Primeiramente, treinaremos uma rede ADALINE com inicializando o vetor de pesos em cada treinamento com valores aleatórios entre zero e um. Utilize taxa de aprendizado $\\eta$ = 0.001, épocas = 5000 e precisão $\\epsilon$ = 0.000001."
   ]
  },
  {
   "cell_type": "code",
   "execution_count": 5,
   "metadata": {},
   "outputs": [
    {
     "data": {
      "text/plain": [
       "<src.Adaline.Adaline at 0x28bb8fef2e0>"
      ]
     },
     "execution_count": 5,
     "metadata": {},
     "output_type": "execute_result"
    }
   ],
   "source": [
    "# Define a rede ADALINE\n",
    "rede = Adaline(eta=.001, epoch=5_000, goal=.000_001)\n",
    "rede.fit(X_train, y_train)"
   ]
  },
  {
   "cell_type": "code",
   "execution_count": 6,
   "metadata": {},
   "outputs": [
    {
     "name": "stdout",
     "output_type": "stream",
     "text": [
      "Pesos sinápticos: [ 1.74004777  0.35386176 -0.67810587 -2.57401517]\n",
      "Limiar de ativação: 0.7405683148764615\n",
      "Número de épocas: 5000\n"
     ]
    }
   ],
   "source": [
    "# Verificação dos pesos sinápticos e limiar de ativação\n",
    "print(f'Pesos sinápticos: {rede.weight_[1:]}')\n",
    "print(f'Limiar de ativação: {rede.weight_[0]}')\n",
    "print(f'Número de épocas: {rede.epochs}')"
   ]
  },
  {
   "cell_type": "markdown",
   "metadata": {},
   "source": [
    "## Avaliação da rede"
   ]
  },
  {
   "cell_type": "code",
   "execution_count": 7,
   "metadata": {},
   "outputs": [
    {
     "name": "stdout",
     "output_type": "stream",
     "text": [
      "Acurácia:  68.0 %\n",
      "Quantidade de erros no teste em lote:  8\n",
      "Número de épocas do treinamento da RNA:  5000\n",
      "Erro quadrático médio final (MSE - Eqm(w)):  1.0516104328792748\n",
      "Erro quadrático final (QE - E(w) - Custo):  2.1032208657585496\n",
      "Vetor de pesos finais da RNA treinada - Limiar =  0.7405683148764615 Pesos das entradas =  [ 1.74004777  0.35386176 -0.67810587 -2.57401517]\n"
     ]
    }
   ],
   "source": [
    "# Verificação das métricas com as amostras de teste\n",
    "\n",
    "# For entrada, saida in zip(X_test, y_test):\n",
    "nTests = len(y_test)\n",
    "for i in range(nTests):\n",
    "    rede.predict(X_test[i,:], y_test[i])\n",
    "    \n",
    "print(\"Acurácia: \", (nTests-rede.error_tests)/nTests*100, \"%\")\n",
    "print(\"Quantidade de erros no teste em lote: \", rede.error_tests)\n",
    "print(\"Número de épocas do treinamento da RNA: \", rede.epochs)\n",
    "print(\"Erro quadrático médio final (MSE - Eqm(w)): \", rede.mse)\n",
    "print(\"Erro quadrático final (QE - E(w) - Custo): \", rede.cost)\n",
    "print(\"Vetor de pesos finais da RNA treinada - Limiar = \", rede.weight_[0], \"Pesos das entradas = \", rede.weight_[1:])"
   ]
  },
  {
   "cell_type": "code",
   "execution_count": 8,
   "metadata": {},
   "outputs": [
    {
     "data": {
      "image/png": "[encoded data removed]",
      "text/plain": [
       "<Figure size 640x480 with 1 Axes>"
      ]
     },
     "metadata": {},
     "output_type": "display_data"
    }
   ],
   "source": [
    "# Verificando a proporção das classes da resposta\n",
    "fig, ax = plt.subplots()\n",
    "sns.countplot(x=y_test, palette='colorblind', hue=y_test, legend=False)\n",
    "heights = np.unique(y_test, return_counts=True)[1]\n",
    "for i, height in enumerate(heights):\n",
    "    ax.text(i, height, f'{height/len(y_test):.0%}', ha='center', va='bottom')\n",
    "sns.despine()"
   ]
  },
  {
   "cell_type": "markdown",
   "metadata": {},
   "source": [
    "Não há um desbalanceamento de classes considerável em relação à resposta, portanto, 60% de acurácia não pode ser considerada aceitável. Podemos verificar se o problema é linearmente separável."
   ]
  },
  {
   "cell_type": "code",
   "execution_count": 9,
   "metadata": {},
   "outputs": [
    {
     "data": {
      "text/plain": [
       "<function matplotlib.pyplot.show(close=None, block=None)>"
      ]
     },
     "execution_count": 9,
     "metadata": {},
     "output_type": "execute_result"
    },
    {
     "data": {
      "image/png": "[encoded data removed]",
      "text/plain": [
       "<Figure size 640x480 with 1 Axes>"
      ]
     },
     "metadata": {},
     "output_type": "display_data"
    }
   ],
   "source": [
    "# Plotando o gráfico para verificação se as amostras são linearmente separáveis\n",
    "plt.scatter(X[:,1],X[:,0],c=y)\n",
    "plt.title(\"Válvula A vs Válvula B\")\n",
    "sns.despine()\n",
    "plt.show"
   ]
  },
  {
   "cell_type": "markdown",
   "metadata": {},
   "source": [
    "Aparentemente o problema não é linearmente separável"
   ]
  },
  {
   "cell_type": "markdown",
   "metadata": {},
   "source": [
    "## Teste da rede com outras amostras"
   ]
  },
  {
   "cell_type": "code",
   "execution_count": 10,
   "metadata": {},
   "outputs": [],
   "source": [
    "# Carrega os dados de teste como um pandas DataFrame\n",
    "df_testes = pd.read_csv('../data/valvulasTestes.csv', header=None)\n",
    "\n",
    "# Separa a base em sinais de entrada e saída\n",
    "X = df_testes.loc[:, [0, 1, 2, 3]].values\n",
    "y = df_testes.loc[:, 4].values\n",
    "\n",
    "# Faz o escalonamento dos sinais de entrada\n",
    "X = scaler.fit_transform(X)"
   ]
  },
  {
   "cell_type": "code",
   "execution_count": 11,
   "metadata": {},
   "outputs": [
    {
     "data": {
      "text/html": [
       "<div>\n",
       "<style scoped>\n",
       "    .dataframe tbody tr th:only-of-type {\n",
       "        vertical-align: middle;\n",
       "    }\n",
       "\n",
       "    .dataframe tbody tr th {\n",
       "        vertical-align: top;\n",
       "    }\n",
       "\n",
       "    .dataframe thead th {\n",
       "        text-align: right;\n",
       "    }\n",
       "</style>\n",
       "<table border=\"1\" class=\"dataframe\">\n",
       "  <thead>\n",
       "    <tr style=\"text-align: right;\">\n",
       "      <th></th>\n",
       "      <th>X1</th>\n",
       "      <th>X2</th>\n",
       "      <th>X3</th>\n",
       "      <th>X4</th>\n",
       "      <th>d</th>\n",
       "      <th>y(T1)</th>\n",
       "    </tr>\n",
       "  </thead>\n",
       "  <tbody>\n",
       "    <tr>\n",
       "      <th>1</th>\n",
       "      <td>0.9694</td>\n",
       "      <td>0.6909</td>\n",
       "      <td>0.4334</td>\n",
       "      <td>3.4965</td>\n",
       "      <td>-1</td>\n",
       "      <td>1</td>\n",
       "    </tr>\n",
       "    <tr>\n",
       "      <th>2</th>\n",
       "      <td>0.5427</td>\n",
       "      <td>1.3832</td>\n",
       "      <td>0.6390</td>\n",
       "      <td>4.0352</td>\n",
       "      <td>-1</td>\n",
       "      <td>-1</td>\n",
       "    </tr>\n",
       "    <tr>\n",
       "      <th>3</th>\n",
       "      <td>0.6081</td>\n",
       "      <td>-0.9196</td>\n",
       "      <td>0.5925</td>\n",
       "      <td>0.1016</td>\n",
       "      <td>1</td>\n",
       "      <td>1</td>\n",
       "    </tr>\n",
       "    <tr>\n",
       "      <th>4</th>\n",
       "      <td>-0.1618</td>\n",
       "      <td>0.4694</td>\n",
       "      <td>0.2030</td>\n",
       "      <td>3.0117</td>\n",
       "      <td>-1</td>\n",
       "      <td>-1</td>\n",
       "    </tr>\n",
       "    <tr>\n",
       "      <th>5</th>\n",
       "      <td>0.1870</td>\n",
       "      <td>-0.2578</td>\n",
       "      <td>0.6124</td>\n",
       "      <td>1.7749</td>\n",
       "      <td>-1</td>\n",
       "      <td>-1</td>\n",
       "    </tr>\n",
       "    <tr>\n",
       "      <th>6</th>\n",
       "      <td>0.4891</td>\n",
       "      <td>-0.5276</td>\n",
       "      <td>0.4378</td>\n",
       "      <td>0.6439</td>\n",
       "      <td>1</td>\n",
       "      <td>1</td>\n",
       "    </tr>\n",
       "    <tr>\n",
       "      <th>7</th>\n",
       "      <td>0.3777</td>\n",
       "      <td>2.0149</td>\n",
       "      <td>0.7423</td>\n",
       "      <td>3.3932</td>\n",
       "      <td>1</td>\n",
       "      <td>-1</td>\n",
       "    </tr>\n",
       "    <tr>\n",
       "      <th>8</th>\n",
       "      <td>1.1498</td>\n",
       "      <td>-0.4067</td>\n",
       "      <td>0.2469</td>\n",
       "      <td>1.5866</td>\n",
       "      <td>1</td>\n",
       "      <td>1</td>\n",
       "    </tr>\n",
       "    <tr>\n",
       "      <th>9</th>\n",
       "      <td>0.9325</td>\n",
       "      <td>1.0950</td>\n",
       "      <td>1.0359</td>\n",
       "      <td>3.3591</td>\n",
       "      <td>1</td>\n",
       "      <td>-1</td>\n",
       "    </tr>\n",
       "    <tr>\n",
       "      <th>10</th>\n",
       "      <td>0.5060</td>\n",
       "      <td>1.3317</td>\n",
       "      <td>0.9222</td>\n",
       "      <td>3.7174</td>\n",
       "      <td>-1</td>\n",
       "      <td>-1</td>\n",
       "    </tr>\n",
       "    <tr>\n",
       "      <th>11</th>\n",
       "      <td>0.0497</td>\n",
       "      <td>-2.0656</td>\n",
       "      <td>0.6124</td>\n",
       "      <td>-0.6585</td>\n",
       "      <td>-1</td>\n",
       "      <td>1</td>\n",
       "    </tr>\n",
       "    <tr>\n",
       "      <th>12</th>\n",
       "      <td>0.4004</td>\n",
       "      <td>3.5369</td>\n",
       "      <td>0.9766</td>\n",
       "      <td>5.3532</td>\n",
       "      <td>1</td>\n",
       "      <td>-1</td>\n",
       "    </tr>\n",
       "    <tr>\n",
       "      <th>13</th>\n",
       "      <td>-0.1874</td>\n",
       "      <td>1.3343</td>\n",
       "      <td>0.5374</td>\n",
       "      <td>3.2189</td>\n",
       "      <td>-1</td>\n",
       "      <td>-1</td>\n",
       "    </tr>\n",
       "    <tr>\n",
       "      <th>14</th>\n",
       "      <td>0.5060</td>\n",
       "      <td>1.3317</td>\n",
       "      <td>0.9222</td>\n",
       "      <td>3.7174</td>\n",
       "      <td>-1</td>\n",
       "      <td>-1</td>\n",
       "    </tr>\n",
       "    <tr>\n",
       "      <th>15</th>\n",
       "      <td>1.6375</td>\n",
       "      <td>-0.7911</td>\n",
       "      <td>0.7537</td>\n",
       "      <td>0.5515</td>\n",
       "      <td>1</td>\n",
       "      <td>1</td>\n",
       "    </tr>\n",
       "  </tbody>\n",
       "</table>\n",
       "</div>"
      ],
      "text/plain": [
       "        X1      X2      X3      X4  d  y(T1)\n",
       "1   0.9694  0.6909  0.4334  3.4965 -1      1\n",
       "2   0.5427  1.3832  0.6390  4.0352 -1     -1\n",
       "3   0.6081 -0.9196  0.5925  0.1016  1      1\n",
       "4  -0.1618  0.4694  0.2030  3.0117 -1     -1\n",
       "5   0.1870 -0.2578  0.6124  1.7749 -1     -1\n",
       "6   0.4891 -0.5276  0.4378  0.6439  1      1\n",
       "7   0.3777  2.0149  0.7423  3.3932  1     -1\n",
       "8   1.1498 -0.4067  0.2469  1.5866  1      1\n",
       "9   0.9325  1.0950  1.0359  3.3591  1     -1\n",
       "10  0.5060  1.3317  0.9222  3.7174 -1     -1\n",
       "11  0.0497 -2.0656  0.6124 -0.6585 -1      1\n",
       "12  0.4004  3.5369  0.9766  5.3532  1     -1\n",
       "13 -0.1874  1.3343  0.5374  3.2189 -1     -1\n",
       "14  0.5060  1.3317  0.9222  3.7174 -1     -1\n",
       "15  1.6375 -0.7911  0.7537  0.5515  1      1"
      ]
     },
     "execution_count": 11,
     "metadata": {},
     "output_type": "execute_result"
    }
   ],
   "source": [
    "# Predição dos dados de teste\n",
    "# For entrada, saida in zip(X_test, y_test):\n",
    "nTests = len(y)\n",
    "y_pred = np.where(rede.activation_function(X) >= 0, 1, -1)\n",
    "replace_columns = {0: 'X1', 1: 'X2', 2: 'X3', 3: 'X4', 4:'d'}\n",
    "replace_index = {i:j for i, j in zip(range(15), range(1, 16))}\n",
    "df_testes.rename(columns=replace_columns, index=replace_index, inplace=True)\n",
    "df_testes['y(T1)'] = y_pred\n",
    "df_testes"
   ]
  }
 ],
 "metadata": {
  "kernelspec": {
   "display_name": ".venv",
   "language": "python",
   "name": "python3"
  },
  "language_info": {
   "codemirror_mode": {
    "name": "ipython",
    "version": 3
   },
   "file_extension": ".py",
   "mimetype": "text/x-python",
   "name": "python",
   "nbconvert_exporter": "python",
   "pygments_lexer": "ipython3",
   "version": "3.10.11"
  }
 },
 "nbformat": 4,
 "nbformat_minor": 2
}
