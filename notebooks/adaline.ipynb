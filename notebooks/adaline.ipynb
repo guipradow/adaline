{
 "cells": [
  {
   "cell_type": "markdown",
   "metadata": {},
   "source": [
    "# Implementação ADALINE"
   ]
  },
  {
   "cell_type": "markdown",
   "metadata": {
    "vscode": {
     "languageId": "plaintext"
    }
   },
   "source": [
    "## Bibliotecas"
   ]
  },
  {
   "cell_type": "code",
   "execution_count": 2,
   "metadata": {},
   "outputs": [],
   "source": [
    "from sklearn import preprocessing\n",
    "from sklearn.model_selection import train_test_split\n",
    "import matplotlib.pyplot as plt\n",
    "import seaborn as sns\n",
    "import numpy as np\n",
    "import pandas as pd"
   ]
  },
  {
   "cell_type": "markdown",
   "metadata": {},
   "source": [
    "## Funções e classes"
   ]
  },
  {
   "cell_type": "code",
   "execution_count": null,
   "metadata": {},
   "outputs": [],
   "source": [
    "# Classe Adaline\n",
    "class Adaline:\n",
    "    '''\n",
    "    Construtor do método adaline com informações setadas de número de \n",
    "    épocas máxima (epoch) e taxa de aprendizagem (eta)\n",
    "\n",
    "    ...\n",
    "\n",
    "    Atributos\n",
    "    ---------\n",
    "    epochs : int\n",
    "        Contabilização do número de épocas no treinamento\n",
    "    error_tests : int\n",
    "        Contabilização da quantidade de amostras classificadas\n",
    "        incorretamente nos testes da rede já treinada\n",
    "    weight_ : \n",
    "\n",
    "    error_ : \n",
    "    \n",
    "    '''\n",
    "\n",
    "    def __init__(self, eta=.001, epoch=1_000, goal=1e-6):\n",
    "        '''\n",
    "        Parâmetros\n",
    "        ----------\n",
    "        eta : float\n",
    "            Taxa de aprendizagem, utilizada para impulsionar o\n",
    "            movimento do hiperplano na separação de classes\n",
    "        epoch : int \n",
    "            Número máximo de epócas no aprendizado da RNA\n",
    "        goal : float\n",
    "            Definição do critério de parada, comparado com o cálculo\n",
    "            do erro quadrático da época anterior com a atual\n",
    "        '''\n",
    "        self.eta = eta\n",
    "        self.epoch = epochs\n",
    "        self.epochs = 0\n",
    "        self.error_tests = 0\n",
    "        self.goal = goal\n",
    "\n",
    "    def fit(self, X, y):\n",
    "        '''Método para treinamento da rede\n",
    "        \n",
    "        Parâmetros\n",
    "        ----------\n",
    "\n",
    "\n",
    "        '''\n",
    "        # Inicilização dos pesos randomicamente\n",
    "        self.weight_ = np.random.uniform(-1, 1, X.shape[1] + 1)\n",
    "        # \n",
    "        self.error_ = []\n",
    "        self.mse_ = []\n",
    "        self.mse = 0\n",
    "        self.cost = 0\n",
    "        count = 1"
   ]
  },
  {
   "cell_type": "code",
   "execution_count": 10,
   "metadata": {},
   "outputs": [
    {
     "name": "stdout",
     "output_type": "stream",
     "text": [
      "0.000001\n"
     ]
    }
   ],
   "source": [
    "print(f'{1e-6:.6f}')"
   ]
  },
  {
   "cell_type": "code",
   "execution_count": null,
   "metadata": {},
   "outputs": [],
   "source": []
  }
 ],
 "metadata": {
  "kernelspec": {
   "display_name": ".venv",
   "language": "python",
   "name": "python3"
  },
  "language_info": {
   "codemirror_mode": {
    "name": "ipython",
    "version": 3
   },
   "file_extension": ".py",
   "mimetype": "text/x-python",
   "name": "python",
   "nbconvert_exporter": "python",
   "pygments_lexer": "ipython3",
   "version": "3.10.11"
  }
 },
 "nbformat": 4,
 "nbformat_minor": 2
}
